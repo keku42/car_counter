{
 "cells": [
  {
   "cell_type": "code",
   "execution_count": 1,
   "id": "e88acdcb",
   "metadata": {},
   "outputs": [],
   "source": [
    "import cv2\n",
    "from ultralytics import YOLO\n",
    "import cvzone\n",
    "import numpy\n",
    "import torch\n",
    "import math"
   ]
  },
  {
   "cell_type": "code",
   "execution_count": 2,
   "id": "37a11fe4",
   "metadata": {},
   "outputs": [],
   "source": [
    "from sort import *"
   ]
  },
  {
   "cell_type": "code",
   "execution_count": 4,
   "id": "08aa8eb9",
   "metadata": {
    "scrolled": true
   },
   "outputs": [
    {
     "name": "stderr",
     "output_type": "stream",
     "text": [
      "\n",
      "0: 544x640 4 persons, 3 cars, 1 motorcycle, 2 buss, 2 trucks, 157.1ms\n",
      "Speed: 4.0ms preprocess, 157.1ms inference, 4.0ms postprocess per image at shape (1, 3, 544, 640)\n",
      "\n"
     ]
    },
    {
     "name": "stdout",
     "output_type": "stream",
     "text": [
      "print id : 63.0\n",
      "print id : 62.0\n",
      "print id : 61.0\n",
      "print id : 60.0\n",
      "print id : 59.0\n",
      "print id : 58.0\n",
      "print id : 57.0\n",
      "print id : 56.0\n",
      "totalcount  []\n"
     ]
    },
    {
     "name": "stderr",
     "output_type": "stream",
     "text": [
      "0: 544x640 5 persons, 1 car, 1 motorcycle, 2 buss, 2 trucks, 205.7ms\n",
      "Speed: 5.3ms preprocess, 205.7ms inference, 3.0ms postprocess per image at shape (1, 3, 544, 640)\n",
      "\n"
     ]
    },
    {
     "name": "stdout",
     "output_type": "stream",
     "text": [
      "print id : 63.0\n",
      "print id : 60.0\n",
      "print id : 59.0\n",
      "print id : 58.0\n",
      "print id : 57.0\n",
      "print id : 56.0\n",
      "totalcount  []\n"
     ]
    },
    {
     "name": "stderr",
     "output_type": "stream",
     "text": [
      "0: 544x640 4 persons, 1 car, 1 motorcycle, 2 buss, 1 truck, 189.2ms\n",
      "Speed: 3.3ms preprocess, 189.2ms inference, 2.5ms postprocess per image at shape (1, 3, 544, 640)\n",
      "\n"
     ]
    },
    {
     "name": "stdout",
     "output_type": "stream",
     "text": [
      "print id : 63.0\n",
      "print id : 59.0\n",
      "print id : 58.0\n",
      "print id : 57.0\n",
      "print id : 56.0\n",
      "totalcount  []\n"
     ]
    },
    {
     "name": "stderr",
     "output_type": "stream",
     "text": [
      "0: 544x640 4 persons, 1 car, 1 motorcycle, 2 buss, 2 trucks, 176.9ms\n",
      "Speed: 4.9ms preprocess, 176.9ms inference, 3.0ms postprocess per image at shape (1, 3, 544, 640)\n",
      "\n"
     ]
    },
    {
     "name": "stdout",
     "output_type": "stream",
     "text": [
      "print id : 63.0\n",
      "print id : 59.0\n",
      "print id : 58.0\n",
      "print id : 57.0\n",
      "print id : 56.0\n",
      "totalcount  []\n"
     ]
    },
    {
     "name": "stderr",
     "output_type": "stream",
     "text": [
      "0: 544x640 3 persons, 1 car, 1 motorcycle, 2 buss, 2 trucks, 167.4ms\n",
      "Speed: 6.0ms preprocess, 167.4ms inference, 2.0ms postprocess per image at shape (1, 3, 544, 640)\n",
      "\n"
     ]
    },
    {
     "name": "stdout",
     "output_type": "stream",
     "text": [
      "print id : 63.0\n",
      "print id : 59.0\n",
      "print id : 58.0\n",
      "print id : 57.0\n",
      "print id : 56.0\n",
      "totalcount  []\n"
     ]
    },
    {
     "name": "stderr",
     "output_type": "stream",
     "text": [
      "0: 544x640 3 persons, 1 car, 1 motorcycle, 1 bus, 4 trucks, 152.2ms\n",
      "Speed: 4.1ms preprocess, 152.2ms inference, 3.1ms postprocess per image at shape (1, 3, 544, 640)\n",
      "\n"
     ]
    },
    {
     "name": "stdout",
     "output_type": "stream",
     "text": [
      "print id : 60.0\n",
      "print id : 59.0\n",
      "print id : 58.0\n",
      "print id : 57.0\n",
      "print id : 56.0\n",
      "totalcount  []\n"
     ]
    },
    {
     "name": "stderr",
     "output_type": "stream",
     "text": [
      "0: 544x640 4 persons, 1 car, 1 motorcycle, 1 bus, 3 trucks, 153.8ms\n",
      "Speed: 6.2ms preprocess, 153.8ms inference, 3.2ms postprocess per image at shape (1, 3, 544, 640)\n",
      "\n"
     ]
    },
    {
     "name": "stdout",
     "output_type": "stream",
     "text": [
      "print id : 60.0\n",
      "print id : 59.0\n",
      "print id : 58.0\n",
      "print id : 57.0\n",
      "print id : 56.0\n",
      "totalcount  []\n"
     ]
    },
    {
     "name": "stderr",
     "output_type": "stream",
     "text": [
      "0: 544x640 4 persons, 1 car, 2 motorcycles, 2 buss, 4 trucks, 141.4ms\n",
      "Speed: 5.0ms preprocess, 141.4ms inference, 2.0ms postprocess per image at shape (1, 3, 544, 640)\n",
      "\n"
     ]
    },
    {
     "name": "stdout",
     "output_type": "stream",
     "text": [
      "print id : 62.0\n",
      "print id : 60.0\n",
      "print id : 59.0\n",
      "print id : 58.0\n",
      "print id : 57.0\n",
      "print id : 56.0\n",
      "totalcount  []\n"
     ]
    },
    {
     "name": "stderr",
     "output_type": "stream",
     "text": [
      "0: 544x640 3 persons, 1 car, 2 motorcycles, 1 bus, 3 trucks, 168.6ms\n",
      "Speed: 4.5ms preprocess, 168.6ms inference, 3.1ms postprocess per image at shape (1, 3, 544, 640)\n",
      "\n"
     ]
    },
    {
     "name": "stdout",
     "output_type": "stream",
     "text": [
      "print id : 60.0\n",
      "print id : 59.0\n",
      "print id : 58.0\n",
      "print id : 57.0\n",
      "print id : 56.0\n",
      "totalcount  []\n"
     ]
    },
    {
     "name": "stderr",
     "output_type": "stream",
     "text": [
      "0: 544x640 3 persons, 1 car, 1 motorcycle, 1 bus, 4 trucks, 208.2ms\n",
      "Speed: 7.0ms preprocess, 208.2ms inference, 3.0ms postprocess per image at shape (1, 3, 544, 640)\n",
      "\n"
     ]
    },
    {
     "name": "stdout",
     "output_type": "stream",
     "text": [
      "print id : 64.0\n",
      "print id : 60.0\n",
      "print id : 59.0\n",
      "print id : 58.0\n",
      "print id : 57.0\n",
      "totalcount  []\n"
     ]
    },
    {
     "name": "stderr",
     "output_type": "stream",
     "text": [
      "0: 544x640 3 persons, 1 car, 1 bus, 4 trucks, 151.5ms\n",
      "Speed: 9.0ms preprocess, 151.5ms inference, 2.0ms postprocess per image at shape (1, 3, 544, 640)\n",
      "\n"
     ]
    },
    {
     "name": "stdout",
     "output_type": "stream",
     "text": [
      "print id : 64.0\n",
      "print id : 60.0\n",
      "print id : 59.0\n",
      "print id : 58.0\n",
      "print id : 57.0\n",
      "totalcount  []\n"
     ]
    },
    {
     "name": "stderr",
     "output_type": "stream",
     "text": [
      "0: 544x640 3 persons, 1 car, 1 bus, 5 trucks, 168.0ms\n",
      "Speed: 5.0ms preprocess, 168.0ms inference, 2.0ms postprocess per image at shape (1, 3, 544, 640)\n",
      "\n"
     ]
    },
    {
     "name": "stdout",
     "output_type": "stream",
     "text": [
      "print id : 64.0\n",
      "print id : 63.0\n",
      "print id : 60.0\n",
      "print id : 59.0\n",
      "print id : 58.0\n",
      "print id : 57.0\n",
      "totalcount  []\n"
     ]
    },
    {
     "name": "stderr",
     "output_type": "stream",
     "text": [
      "0: 544x640 3 persons, 1 car, 1 bus, 4 trucks, 161.7ms\n",
      "Speed: 4.5ms preprocess, 161.7ms inference, 2.0ms postprocess per image at shape (1, 3, 544, 640)\n",
      "\n"
     ]
    },
    {
     "name": "stdout",
     "output_type": "stream",
     "text": [
      "print id : 63.0\n",
      "print id : 60.0\n",
      "print id : 59.0\n",
      "print id : 58.0\n",
      "print id : 57.0\n",
      "totalcount  []\n"
     ]
    },
    {
     "name": "stderr",
     "output_type": "stream",
     "text": [
      "0: 544x640 3 persons, 1 car, 2 buss, 4 trucks, 149.5ms\n",
      "Speed: 4.9ms preprocess, 149.5ms inference, 3.0ms postprocess per image at shape (1, 3, 544, 640)\n",
      "\n"
     ]
    },
    {
     "name": "stdout",
     "output_type": "stream",
     "text": [
      "print id : 63.0\n",
      "print id : 62.0\n",
      "print id : 60.0\n",
      "print id : 59.0\n",
      "print id : 58.0\n",
      "print id : 57.0\n",
      "totalcount  []\n"
     ]
    },
    {
     "name": "stderr",
     "output_type": "stream",
     "text": [
      "0: 544x640 3 persons, 1 car, 1 bus, 4 trucks, 156.7ms\n",
      "Speed: 7.9ms preprocess, 156.7ms inference, 2.0ms postprocess per image at shape (1, 3, 544, 640)\n",
      "\n"
     ]
    },
    {
     "name": "stdout",
     "output_type": "stream",
     "text": [
      "print id : 62.0\n",
      "print id : 60.0\n",
      "print id : 59.0\n",
      "print id : 58.0\n",
      "print id : 57.0\n",
      "totalcount  []\n"
     ]
    },
    {
     "name": "stderr",
     "output_type": "stream",
     "text": [
      "0: 544x640 3 persons, 1 car, 1 bus, 2 trucks, 228.3ms\n",
      "Speed: 4.0ms preprocess, 228.3ms inference, 2.0ms postprocess per image at shape (1, 3, 544, 640)\n",
      "\n"
     ]
    },
    {
     "name": "stdout",
     "output_type": "stream",
     "text": [
      "print id : 64.0\n",
      "print id : 59.0\n",
      "print id : 58.0\n",
      "print id : 57.0\n",
      "totalcount  []\n"
     ]
    },
    {
     "name": "stderr",
     "output_type": "stream",
     "text": [
      "0: 544x640 3 persons, 2 cars, 1 bus, 2 trucks, 175.1ms\n",
      "Speed: 3.8ms preprocess, 175.1ms inference, 4.3ms postprocess per image at shape (1, 3, 544, 640)\n",
      "\n"
     ]
    },
    {
     "name": "stdout",
     "output_type": "stream",
     "text": [
      "print id : 64.0\n",
      "print id : 59.0\n",
      "print id : 58.0\n",
      "print id : 57.0\n",
      "totalcount  []\n"
     ]
    },
    {
     "name": "stderr",
     "output_type": "stream",
     "text": [
      "0: 544x640 3 persons, 1 car, 1 bus, 2 trucks, 161.8ms\n",
      "Speed: 5.4ms preprocess, 161.8ms inference, 2.0ms postprocess per image at shape (1, 3, 544, 640)\n",
      "\n"
     ]
    },
    {
     "name": "stdout",
     "output_type": "stream",
     "text": [
      "print id : 59.0\n",
      "print id : 58.0\n",
      "print id : 57.0\n",
      "totalcount  []\n"
     ]
    },
    {
     "name": "stderr",
     "output_type": "stream",
     "text": [
      "0: 544x640 3 persons, 1 car, 1 bus, 3 trucks, 165.9ms\n",
      "Speed: 4.0ms preprocess, 165.9ms inference, 2.1ms postprocess per image at shape (1, 3, 544, 640)\n",
      "\n"
     ]
    },
    {
     "name": "stdout",
     "output_type": "stream",
     "text": [
      "print id : 59.0\n",
      "print id : 58.0\n",
      "print id : 57.0\n",
      "totalcount  []\n"
     ]
    },
    {
     "name": "stderr",
     "output_type": "stream",
     "text": [
      "0: 544x640 3 persons, 1 car, 1 bus, 4 trucks, 144.4ms\n",
      "Speed: 6.2ms preprocess, 144.4ms inference, 1.9ms postprocess per image at shape (1, 3, 544, 640)\n"
     ]
    },
    {
     "name": "stdout",
     "output_type": "stream",
     "text": [
      "print id : 60.0\n",
      "print id : 59.0\n",
      "print id : 58.0\n",
      "print id : 57.0\n",
      "totalcount  []\n"
     ]
    }
   ],
   "source": [
    "cap = cv2.VideoCapture(\"C:/Users/kisha/Desktop/object1/video/4.mp4\")                 \n",
    "model = YOLO(\"C:/Users/kisha/Desktop/object1/yolov8n.pt\")\n",
    "# classname = ['person','bicycle','car','motorbike','aeroplane','bus','train','truck','boat']\n",
    "\n",
    "classname = ['person', \"bicycle\", \"car\",'motorbike','aeroplane','bus','train','truck','boat',\n",
    "            'traffic light', \"fire hydrant\", \"stop sign\", \"parking meter\", \"bench\", \"bird\", \"cat\",\n",
    "            \"dog\", \"horse\", \"sheep\", \"cow\", \"elephant\", \"bear\", \"zebra\", \"giraffe\", \"backpack\",'umbrella',\n",
    "             \"handbag\", \"tie\", \"suitcase\", \"frisbee\", \"skis\", \"snowboard\", \"sports ball\", \"kite\", \"baseball bat\",\n",
    "             'baseball glove', 'skateboard', 'surfboard', \"tennis racket\", \"bottle\", 'wine glass', 'cup',\n",
    "             'fork', \"knife\", \"spoon\", \"bowl\", \"banana\", 'apple','sandwich', 'orange','broccoli',\n",
    "             'carrot',\"hot dog\", 'pizza', 'donut', \"cake\", \"chair\", \"sofa\", \"pottedplant\", \"bed\",\n",
    "              \"diningtable\", \"toilet\", \"tvmonitor\", \"laptop\", \"mouse\", \"remote\", \"keyboard\", \"cell phone\",\n",
    "              \"microwave\", \"oven\", \"toaster\", \"sink\", \"refrigerator\", \"Hook\", \"clock\", \"vase\", \"scissors\",\n",
    "               'teddy bear', \"hair drier\", \"toothbrush\"]\n",
    "\n",
    "cap.set(3,1280)\n",
    "cap.set(4,720)\n",
    "\n",
    "tracker = Sort(max_age=100, min_hits=3, iou_threshold=0.3)\n",
    "\n",
    "limits=[198,500,700,398]\n",
    "totalcount=[]\n",
    "\n",
    "try:\n",
    "    while True:\n",
    "        ret, frame = cap.read()\n",
    "        frame = cv2.resize(frame,(880,740))\n",
    "        result = model(frame,stream=True)\n",
    "        \n",
    "        detection = np.empty((0,5))\n",
    "        for i in result:\n",
    "            boxes = i.boxes\n",
    "            for box in boxes:\n",
    "                x1,y1,x2,y2 = box.xyxy[0]\n",
    "                x1,y1,x2,y2 = int(x1),int(y1),int(x2),int(y2)\n",
    "                w,h = x2-x1,y2-y1\n",
    "#                 cvzone.cornerRect(frame,(x1,y1,w,h),l=8,t=3)\n",
    "                \n",
    "                conf = math.ceil((box.conf[0]*100))/100\n",
    "#                 print(conf)\n",
    "                cls = int(box.cls[0])\n",
    "                currentclass = classname[cls]\n",
    "                \n",
    "                if currentclass =='car' or currentclass=='bicycle' or currentclass=='motorbike' or currentclass=='bus' or currentclass=='truck':\n",
    "                    cvzone.cornerRect(frame,(x1,y1,w,h),l=8,t=3)\n",
    "#                     cvzone.putTextRect(frame,f'vehicle {conf}',(max(0,x1),max(35,y1-10)),scale=0.8,thickness=1,offset=8)\n",
    "                    currentArray = np.array([x1,y1,x2,y2,conf])\n",
    "                    detection = np.vstack((detection,currentArray))\n",
    "                    \n",
    "        resulttracker = tracker.update(detection)\n",
    "        \n",
    "        cv2.line(frame,(limits[0],limits[1]),(limits[2],limits[3]),(0,0,255),5)\n",
    "        \n",
    "        for result in resulttracker:\n",
    "            x1,y1,x2,y2,id = result\n",
    "            x1,y1,x2,y2 = int(x1),int(y1),int(x2),int(y2)\n",
    "            w,h = x2-x1,y2-y1\n",
    "            print(\"print id :\",id)\n",
    "            cvzone.cornerRect(frame,(x1,y1,w,h),l=8,t=3,colorR=(255, 0, 255))\n",
    "            cvzone.putTextRect(frame,f'{id}',(max(0,x1),max(35,y1-10)),scale=0.8,thickness=1,offset=8)\n",
    "            \n",
    "            cx,cy= x1+w//2,y1+h//2\n",
    "            cv2.circle(frame,(cx,cy),5,(255,0,255),cv2.FILLED)\n",
    "            \n",
    "            if limits[0]< cx < limits[2] and limits[1]-100 < cy <limits[1]+100:\n",
    "                if totalcount.count(id)==0:\n",
    "                    totalcount.append(id)\n",
    "            \n",
    "        cvzone.putTextRect(frame,f' Count: {len(totalcount)}',(50,50))   \n",
    "        \n",
    "        print(\"totalcount \",totalcount)\n",
    "        \n",
    "        \n",
    "        cv2.imshow('Image',frame)\n",
    "        if cv2.waitKey(25)  & 0xFF == ord('h'):\n",
    "            break\n",
    "# except:\n",
    "#     print('Kuch to gadabad hai daya!!!!!')\n",
    "\n",
    "finally:\n",
    "    cap.release()\n",
    "    cv2.destroyAllWindows()"
   ]
  },
  {
   "cell_type": "code",
   "execution_count": 5,
   "id": "b1722a6a",
   "metadata": {
    "scrolled": false
   },
   "outputs": [
    {
     "name": "stderr",
     "output_type": "stream",
     "text": [
      "\n",
      "0: 544x640 4 persons, 3 cars, 1 motorcycle, 2 buss, 2 trucks, 149.2ms\n",
      "Speed: 5.0ms preprocess, 149.2ms inference, 2.0ms postprocess per image at shape (1, 3, 544, 640)\n",
      "\n"
     ]
    },
    {
     "name": "stdout",
     "output_type": "stream",
     "text": [
      "print id : 74.0\n",
      "print id : 73.0\n",
      "print id : 72.0\n",
      "print id : 71.0\n",
      "print id : 70.0\n",
      "print id : 69.0\n",
      "print id : 68.0\n",
      "print id : 67.0\n",
      "totalcount  []\n"
     ]
    },
    {
     "name": "stderr",
     "output_type": "stream",
     "text": [
      "0: 544x640 5 persons, 1 car, 1 motorcycle, 2 buss, 2 trucks, 172.1ms\n",
      "Speed: 5.0ms preprocess, 172.1ms inference, 2.0ms postprocess per image at shape (1, 3, 544, 640)\n",
      "\n"
     ]
    },
    {
     "name": "stdout",
     "output_type": "stream",
     "text": [
      "print id : 74.0\n",
      "print id : 71.0\n",
      "print id : 70.0\n",
      "print id : 69.0\n",
      "print id : 68.0\n",
      "print id : 67.0\n",
      "totalcount  []\n"
     ]
    },
    {
     "name": "stderr",
     "output_type": "stream",
     "text": [
      "0: 544x640 4 persons, 1 car, 1 motorcycle, 2 buss, 1 truck, 160.1ms\n",
      "Speed: 4.0ms preprocess, 160.1ms inference, 3.0ms postprocess per image at shape (1, 3, 544, 640)\n",
      "\n"
     ]
    },
    {
     "name": "stdout",
     "output_type": "stream",
     "text": [
      "print id : 74.0\n",
      "print id : 70.0\n",
      "print id : 69.0\n",
      "print id : 68.0\n",
      "print id : 67.0\n",
      "totalcount  []\n"
     ]
    },
    {
     "name": "stderr",
     "output_type": "stream",
     "text": [
      "0: 544x640 4 persons, 1 car, 1 motorcycle, 2 buss, 2 trucks, 155.1ms\n",
      "Speed: 6.1ms preprocess, 155.1ms inference, 2.0ms postprocess per image at shape (1, 3, 544, 640)\n",
      "\n"
     ]
    },
    {
     "name": "stdout",
     "output_type": "stream",
     "text": [
      "print id : 74.0\n",
      "print id : 70.0\n",
      "print id : 69.0\n",
      "print id : 68.0\n",
      "print id : 67.0\n",
      "totalcount  []\n"
     ]
    },
    {
     "name": "stderr",
     "output_type": "stream",
     "text": [
      "0: 544x640 3 persons, 1 car, 1 motorcycle, 2 buss, 2 trucks, 157.2ms\n",
      "Speed: 6.0ms preprocess, 157.2ms inference, 2.1ms postprocess per image at shape (1, 3, 544, 640)\n",
      "\n"
     ]
    },
    {
     "name": "stdout",
     "output_type": "stream",
     "text": [
      "print id : 74.0\n",
      "print id : 70.0\n",
      "print id : 69.0\n",
      "print id : 68.0\n",
      "print id : 67.0\n",
      "totalcount  []\n"
     ]
    },
    {
     "name": "stderr",
     "output_type": "stream",
     "text": [
      "0: 544x640 3 persons, 1 car, 1 motorcycle, 1 bus, 4 trucks, 144.4ms\n",
      "Speed: 6.0ms preprocess, 144.4ms inference, 2.0ms postprocess per image at shape (1, 3, 544, 640)\n",
      "\n"
     ]
    },
    {
     "name": "stdout",
     "output_type": "stream",
     "text": [
      "print id : 71.0\n",
      "print id : 70.0\n",
      "print id : 69.0\n",
      "print id : 68.0\n",
      "print id : 67.0\n",
      "totalcount  []\n"
     ]
    },
    {
     "name": "stderr",
     "output_type": "stream",
     "text": [
      "0: 544x640 4 persons, 1 car, 1 motorcycle, 1 bus, 3 trucks, 152.4ms\n",
      "Speed: 4.0ms preprocess, 152.4ms inference, 1.1ms postprocess per image at shape (1, 3, 544, 640)\n",
      "\n"
     ]
    },
    {
     "name": "stdout",
     "output_type": "stream",
     "text": [
      "print id : 71.0\n",
      "print id : 70.0\n",
      "print id : 69.0\n",
      "print id : 68.0\n",
      "print id : 67.0\n",
      "totalcount  []\n"
     ]
    },
    {
     "name": "stderr",
     "output_type": "stream",
     "text": [
      "0: 544x640 4 persons, 1 car, 2 motorcycles, 2 buss, 4 trucks, 147.3ms\n",
      "Speed: 5.0ms preprocess, 147.3ms inference, 2.0ms postprocess per image at shape (1, 3, 544, 640)\n",
      "\n"
     ]
    },
    {
     "name": "stdout",
     "output_type": "stream",
     "text": [
      "print id : 73.0\n",
      "print id : 71.0\n",
      "print id : 70.0\n",
      "print id : 69.0\n",
      "print id : 68.0\n",
      "print id : 67.0\n",
      "totalcount  []\n"
     ]
    },
    {
     "name": "stderr",
     "output_type": "stream",
     "text": [
      "0: 544x640 3 persons, 1 car, 2 motorcycles, 1 bus, 3 trucks, 162.5ms\n",
      "Speed: 5.0ms preprocess, 162.5ms inference, 2.0ms postprocess per image at shape (1, 3, 544, 640)\n",
      "\n"
     ]
    },
    {
     "name": "stdout",
     "output_type": "stream",
     "text": [
      "print id : 71.0\n",
      "print id : 70.0\n",
      "print id : 69.0\n",
      "print id : 68.0\n",
      "print id : 67.0\n",
      "totalcount  []\n"
     ]
    },
    {
     "name": "stderr",
     "output_type": "stream",
     "text": [
      "0: 544x640 3 persons, 1 car, 1 motorcycle, 1 bus, 4 trucks, 147.8ms\n",
      "Speed: 5.8ms preprocess, 147.8ms inference, 3.0ms postprocess per image at shape (1, 3, 544, 640)\n",
      "\n"
     ]
    },
    {
     "name": "stdout",
     "output_type": "stream",
     "text": [
      "print id : 75.0\n",
      "print id : 71.0\n",
      "print id : 70.0\n",
      "print id : 69.0\n",
      "print id : 68.0\n",
      "totalcount  []\n"
     ]
    },
    {
     "name": "stderr",
     "output_type": "stream",
     "text": [
      "0: 544x640 3 persons, 1 car, 1 bus, 4 trucks, 133.6ms\n",
      "Speed: 5.0ms preprocess, 133.6ms inference, 2.0ms postprocess per image at shape (1, 3, 544, 640)\n",
      "\n"
     ]
    },
    {
     "name": "stdout",
     "output_type": "stream",
     "text": [
      "print id : 75.0\n",
      "print id : 71.0\n",
      "print id : 70.0\n",
      "print id : 69.0\n",
      "print id : 68.0\n",
      "totalcount  []\n"
     ]
    },
    {
     "name": "stderr",
     "output_type": "stream",
     "text": [
      "0: 544x640 3 persons, 1 car, 1 bus, 5 trucks, 154.1ms\n",
      "Speed: 4.5ms preprocess, 154.1ms inference, 2.0ms postprocess per image at shape (1, 3, 544, 640)\n",
      "\n"
     ]
    },
    {
     "name": "stdout",
     "output_type": "stream",
     "text": [
      "print id : 75.0\n",
      "print id : 74.0\n",
      "print id : 71.0\n",
      "print id : 70.0\n",
      "print id : 69.0\n",
      "print id : 68.0\n",
      "totalcount  []\n"
     ]
    },
    {
     "name": "stderr",
     "output_type": "stream",
     "text": [
      "0: 544x640 3 persons, 1 car, 1 bus, 4 trucks, 151.5ms\n",
      "Speed: 4.0ms preprocess, 151.5ms inference, 3.3ms postprocess per image at shape (1, 3, 544, 640)\n",
      "\n"
     ]
    },
    {
     "name": "stdout",
     "output_type": "stream",
     "text": [
      "print id : 74.0\n",
      "print id : 71.0\n",
      "print id : 70.0\n",
      "print id : 69.0\n",
      "print id : 68.0\n",
      "totalcount  []\n"
     ]
    },
    {
     "name": "stderr",
     "output_type": "stream",
     "text": [
      "0: 544x640 3 persons, 1 car, 2 buss, 4 trucks, 166.4ms\n",
      "Speed: 5.0ms preprocess, 166.4ms inference, 2.0ms postprocess per image at shape (1, 3, 544, 640)\n",
      "\n"
     ]
    },
    {
     "name": "stdout",
     "output_type": "stream",
     "text": [
      "print id : 74.0\n",
      "print id : 73.0\n",
      "print id : 71.0\n",
      "print id : 70.0\n",
      "print id : 69.0\n",
      "print id : 68.0\n",
      "totalcount  []\n"
     ]
    },
    {
     "name": "stderr",
     "output_type": "stream",
     "text": [
      "0: 544x640 3 persons, 1 car, 1 bus, 4 trucks, 168.6ms\n",
      "Speed: 6.1ms preprocess, 168.6ms inference, 1.0ms postprocess per image at shape (1, 3, 544, 640)\n",
      "\n"
     ]
    },
    {
     "name": "stdout",
     "output_type": "stream",
     "text": [
      "print id : 73.0\n",
      "print id : 71.0\n",
      "print id : 70.0\n",
      "print id : 69.0\n",
      "print id : 68.0\n",
      "totalcount  []\n"
     ]
    },
    {
     "name": "stderr",
     "output_type": "stream",
     "text": [
      "0: 544x640 3 persons, 1 car, 1 bus, 2 trucks, 148.1ms\n",
      "Speed: 4.5ms preprocess, 148.1ms inference, 2.0ms postprocess per image at shape (1, 3, 544, 640)\n",
      "\n"
     ]
    },
    {
     "name": "stdout",
     "output_type": "stream",
     "text": [
      "print id : 75.0\n",
      "print id : 70.0\n",
      "print id : 69.0\n",
      "print id : 68.0\n",
      "totalcount  []\n"
     ]
    },
    {
     "name": "stderr",
     "output_type": "stream",
     "text": [
      "0: 544x640 3 persons, 2 cars, 1 bus, 2 trucks, 146.5ms\n",
      "Speed: 5.0ms preprocess, 146.5ms inference, 2.3ms postprocess per image at shape (1, 3, 544, 640)\n",
      "\n"
     ]
    },
    {
     "name": "stdout",
     "output_type": "stream",
     "text": [
      "print id : 75.0\n",
      "print id : 70.0\n",
      "print id : 69.0\n",
      "print id : 68.0\n",
      "totalcount  []\n"
     ]
    },
    {
     "name": "stderr",
     "output_type": "stream",
     "text": [
      "0: 544x640 3 persons, 1 car, 1 bus, 2 trucks, 150.0ms\n",
      "Speed: 4.5ms preprocess, 150.0ms inference, 3.3ms postprocess per image at shape (1, 3, 544, 640)\n",
      "\n"
     ]
    },
    {
     "name": "stdout",
     "output_type": "stream",
     "text": [
      "print id : 70.0\n",
      "print id : 69.0\n",
      "print id : 68.0\n",
      "totalcount  []\n"
     ]
    },
    {
     "name": "stderr",
     "output_type": "stream",
     "text": [
      "0: 544x640 3 persons, 1 car, 1 bus, 3 trucks, 147.7ms\n",
      "Speed: 5.0ms preprocess, 147.7ms inference, 1.0ms postprocess per image at shape (1, 3, 544, 640)\n",
      "\n"
     ]
    },
    {
     "name": "stdout",
     "output_type": "stream",
     "text": [
      "print id : 70.0\n",
      "print id : 69.0\n",
      "print id : 68.0\n",
      "totalcount  []\n"
     ]
    },
    {
     "name": "stderr",
     "output_type": "stream",
     "text": [
      "0: 544x640 3 persons, 1 car, 1 bus, 4 trucks, 159.4ms\n",
      "Speed: 6.0ms preprocess, 159.4ms inference, 3.0ms postprocess per image at shape (1, 3, 544, 640)\n",
      "\n"
     ]
    },
    {
     "name": "stdout",
     "output_type": "stream",
     "text": [
      "print id : 71.0\n",
      "print id : 70.0\n",
      "print id : 69.0\n",
      "print id : 68.0\n",
      "totalcount  []\n"
     ]
    },
    {
     "name": "stderr",
     "output_type": "stream",
     "text": [
      "0: 544x640 3 persons, 2 cars, 2 buss, 3 trucks, 146.9ms\n",
      "Speed: 6.0ms preprocess, 146.9ms inference, 2.1ms postprocess per image at shape (1, 3, 544, 640)\n",
      "\n"
     ]
    },
    {
     "name": "stdout",
     "output_type": "stream",
     "text": [
      "print id : 73.0\n",
      "print id : 71.0\n",
      "print id : 70.0\n",
      "print id : 69.0\n",
      "print id : 68.0\n",
      "totalcount  []\n"
     ]
    },
    {
     "name": "stderr",
     "output_type": "stream",
     "text": [
      "0: 544x640 3 persons, 1 car, 2 buss, 2 trucks, 154.3ms\n",
      "Speed: 5.0ms preprocess, 154.3ms inference, 3.2ms postprocess per image at shape (1, 3, 544, 640)\n",
      "\n"
     ]
    },
    {
     "name": "stdout",
     "output_type": "stream",
     "text": [
      "print id : 74.0\n",
      "print id : 73.0\n",
      "print id : 71.0\n",
      "print id : 69.0\n",
      "print id : 68.0\n",
      "totalcount  []\n"
     ]
    },
    {
     "name": "stderr",
     "output_type": "stream",
     "text": [
      "0: 544x640 3 persons, 1 car, 2 buss, 2 trucks, 152.3ms\n",
      "Speed: 6.3ms preprocess, 152.3ms inference, 2.0ms postprocess per image at shape (1, 3, 544, 640)\n",
      "\n"
     ]
    },
    {
     "name": "stdout",
     "output_type": "stream",
     "text": [
      "print id : 73.0\n",
      "print id : 71.0\n",
      "print id : 69.0\n",
      "print id : 68.0\n",
      "totalcount  []\n"
     ]
    },
    {
     "name": "stderr",
     "output_type": "stream",
     "text": [
      "0: 544x640 3 persons, 1 car, 2 buss, 2 trucks, 159.1ms\n",
      "Speed: 5.4ms preprocess, 159.1ms inference, 2.0ms postprocess per image at shape (1, 3, 544, 640)\n",
      "\n"
     ]
    },
    {
     "name": "stdout",
     "output_type": "stream",
     "text": [
      "print id : 73.0\n",
      "print id : 71.0\n",
      "print id : 69.0\n",
      "print id : 68.0\n",
      "totalcount  []\n"
     ]
    },
    {
     "name": "stderr",
     "output_type": "stream",
     "text": [
      "0: 544x640 3 persons, 1 car, 2 buss, 3 trucks, 153.9ms\n",
      "Speed: 5.0ms preprocess, 153.9ms inference, 2.0ms postprocess per image at shape (1, 3, 544, 640)\n",
      "\n"
     ]
    },
    {
     "name": "stdout",
     "output_type": "stream",
     "text": [
      "print id : 73.0\n",
      "print id : 71.0\n",
      "print id : 70.0\n",
      "print id : 69.0\n",
      "print id : 68.0\n",
      "totalcount  []\n"
     ]
    },
    {
     "name": "stderr",
     "output_type": "stream",
     "text": [
      "0: 544x640 3 persons, 1 car, 2 buss, 1 truck, 151.5ms\n",
      "Speed: 6.3ms preprocess, 151.5ms inference, 4.0ms postprocess per image at shape (1, 3, 544, 640)\n",
      "\n"
     ]
    },
    {
     "name": "stdout",
     "output_type": "stream",
     "text": [
      "print id : 73.0\n",
      "print id : 71.0\n",
      "print id : 70.0\n",
      "print id : 68.0\n",
      "totalcount  []\n"
     ]
    },
    {
     "name": "stderr",
     "output_type": "stream",
     "text": [
      "0: 544x640 3 persons, 2 cars, 2 buss, 156.1ms\n",
      "Speed: 4.3ms preprocess, 156.1ms inference, 2.0ms postprocess per image at shape (1, 3, 544, 640)\n",
      "\n"
     ]
    },
    {
     "name": "stdout",
     "output_type": "stream",
     "text": [
      "print id : 73.0\n",
      "print id : 71.0\n",
      "print id : 68.0\n",
      "totalcount  []\n"
     ]
    },
    {
     "name": "stderr",
     "output_type": "stream",
     "text": [
      "0: 544x640 3 persons, 2 cars, 2 buss, 1 truck, 152.9ms\n",
      "Speed: 4.0ms preprocess, 152.9ms inference, 3.0ms postprocess per image at shape (1, 3, 544, 640)\n",
      "\n"
     ]
    },
    {
     "name": "stdout",
     "output_type": "stream",
     "text": [
      "print id : 73.0\n",
      "print id : 71.0\n",
      "print id : 68.0\n",
      "totalcount  []\n"
     ]
    },
    {
     "name": "stderr",
     "output_type": "stream",
     "text": [
      "0: 544x640 3 persons, 1 car, 2 buss, 1 truck, 153.2ms\n",
      "Speed: 4.3ms preprocess, 153.2ms inference, 2.1ms postprocess per image at shape (1, 3, 544, 640)\n",
      "\n"
     ]
    },
    {
     "name": "stdout",
     "output_type": "stream",
     "text": [
      "print id : 73.0\n",
      "print id : 71.0\n",
      "print id : 68.0\n",
      "totalcount  []\n"
     ]
    },
    {
     "name": "stderr",
     "output_type": "stream",
     "text": [
      "0: 544x640 4 persons, 1 car, 2 buss, 1 truck, 155.7ms\n",
      "Speed: 4.3ms preprocess, 155.7ms inference, 4.0ms postprocess per image at shape (1, 3, 544, 640)\n",
      "\n"
     ]
    },
    {
     "name": "stdout",
     "output_type": "stream",
     "text": [
      "print id : 73.0\n",
      "print id : 71.0\n",
      "print id : 70.0\n",
      "print id : 68.0\n",
      "totalcount  []\n"
     ]
    },
    {
     "name": "stderr",
     "output_type": "stream",
     "text": [
      "0: 544x640 6 persons, 1 car, 2 buss, 149.3ms\n",
      "Speed: 5.2ms preprocess, 149.3ms inference, 3.0ms postprocess per image at shape (1, 3, 544, 640)\n",
      "\n"
     ]
    },
    {
     "name": "stdout",
     "output_type": "stream",
     "text": [
      "print id : 73.0\n",
      "print id : 71.0\n",
      "print id : 68.0\n",
      "totalcount  []\n"
     ]
    },
    {
     "name": "stderr",
     "output_type": "stream",
     "text": [
      "0: 544x640 6 persons, 1 car, 2 buss, 156.1ms\n",
      "Speed: 5.0ms preprocess, 156.1ms inference, 2.0ms postprocess per image at shape (1, 3, 544, 640)\n",
      "\n"
     ]
    },
    {
     "name": "stdout",
     "output_type": "stream",
     "text": [
      "print id : 73.0\n",
      "print id : 71.0\n",
      "print id : 68.0\n",
      "totalcount  []\n"
     ]
    },
    {
     "name": "stderr",
     "output_type": "stream",
     "text": [
      "0: 544x640 4 persons, 1 car, 2 buss, 148.6ms\n",
      "Speed: 4.0ms preprocess, 148.6ms inference, 2.0ms postprocess per image at shape (1, 3, 544, 640)\n",
      "\n"
     ]
    },
    {
     "name": "stdout",
     "output_type": "stream",
     "text": [
      "print id : 73.0\n",
      "print id : 71.0\n",
      "print id : 68.0\n",
      "totalcount  []\n"
     ]
    },
    {
     "name": "stderr",
     "output_type": "stream",
     "text": [
      "0: 544x640 5 persons, 1 car, 2 buss, 157.7ms\n",
      "Speed: 5.1ms preprocess, 157.7ms inference, 2.0ms postprocess per image at shape (1, 3, 544, 640)\n",
      "\n"
     ]
    },
    {
     "name": "stdout",
     "output_type": "stream",
     "text": [
      "print id : 73.0\n",
      "print id : 71.0\n",
      "print id : 68.0\n",
      "totalcount  []\n"
     ]
    },
    {
     "name": "stderr",
     "output_type": "stream",
     "text": [
      "0: 544x640 5 persons, 1 car, 2 buss, 151.0ms\n",
      "Speed: 5.2ms preprocess, 151.0ms inference, 2.0ms postprocess per image at shape (1, 3, 544, 640)\n",
      "\n"
     ]
    },
    {
     "name": "stdout",
     "output_type": "stream",
     "text": [
      "print id : 73.0\n",
      "print id : 71.0\n",
      "print id : 68.0\n",
      "totalcount  []\n"
     ]
    },
    {
     "name": "stderr",
     "output_type": "stream",
     "text": [
      "0: 544x640 5 persons, 1 car, 2 buss, 156.4ms\n",
      "Speed: 5.3ms preprocess, 156.4ms inference, 3.1ms postprocess per image at shape (1, 3, 544, 640)\n",
      "\n"
     ]
    },
    {
     "name": "stdout",
     "output_type": "stream",
     "text": [
      "print id : 73.0\n",
      "print id : 71.0\n",
      "print id : 68.0\n",
      "totalcount  []\n"
     ]
    },
    {
     "name": "stderr",
     "output_type": "stream",
     "text": [
      "0: 544x640 5 persons, 1 car, 2 buss, 145.2ms\n",
      "Speed: 5.3ms preprocess, 145.2ms inference, 2.1ms postprocess per image at shape (1, 3, 544, 640)\n",
      "\n"
     ]
    },
    {
     "name": "stdout",
     "output_type": "stream",
     "text": [
      "print id : 73.0\n",
      "print id : 71.0\n",
      "print id : 68.0\n",
      "totalcount  []\n"
     ]
    },
    {
     "name": "stderr",
     "output_type": "stream",
     "text": [
      "0: 544x640 5 persons, 1 car, 2 buss, 160.8ms\n",
      "Speed: 5.2ms preprocess, 160.8ms inference, 2.0ms postprocess per image at shape (1, 3, 544, 640)\n",
      "\n"
     ]
    },
    {
     "name": "stdout",
     "output_type": "stream",
     "text": [
      "print id : 73.0\n",
      "print id : 71.0\n",
      "print id : 68.0\n",
      "totalcount  []\n"
     ]
    },
    {
     "name": "stderr",
     "output_type": "stream",
     "text": [
      "0: 544x640 5 persons, 1 car, 2 buss, 153.9ms\n",
      "Speed: 5.5ms preprocess, 153.9ms inference, 3.4ms postprocess per image at shape (1, 3, 544, 640)\n",
      "\n"
     ]
    },
    {
     "name": "stdout",
     "output_type": "stream",
     "text": [
      "print id : 73.0\n",
      "print id : 71.0\n",
      "print id : 68.0\n",
      "totalcount  []\n"
     ]
    },
    {
     "name": "stderr",
     "output_type": "stream",
     "text": [
      "0: 544x640 7 persons, 1 car, 1 motorcycle, 3 buss, 144.2ms\n",
      "Speed: 5.3ms preprocess, 144.2ms inference, 2.4ms postprocess per image at shape (1, 3, 544, 640)\n",
      "\n"
     ]
    },
    {
     "name": "stdout",
     "output_type": "stream",
     "text": [
      "print id : 73.0\n",
      "print id : 71.0\n",
      "print id : 68.0\n",
      "totalcount  []\n"
     ]
    },
    {
     "name": "stderr",
     "output_type": "stream",
     "text": [
      "0: 544x640 8 persons, 1 car, 1 motorcycle, 2 buss, 155.8ms\n",
      "Speed: 7.0ms preprocess, 155.8ms inference, 3.1ms postprocess per image at shape (1, 3, 544, 640)\n",
      "\n"
     ]
    },
    {
     "name": "stdout",
     "output_type": "stream",
     "text": [
      "print id : 73.0\n",
      "print id : 71.0\n",
      "print id : 68.0\n",
      "totalcount  []\n"
     ]
    },
    {
     "name": "stderr",
     "output_type": "stream",
     "text": [
      "0: 544x640 8 persons, 1 car, 2 buss, 146.9ms\n",
      "Speed: 5.3ms preprocess, 146.9ms inference, 2.2ms postprocess per image at shape (1, 3, 544, 640)\n",
      "\n"
     ]
    },
    {
     "name": "stdout",
     "output_type": "stream",
     "text": [
      "print id : 73.0\n",
      "print id : 71.0\n",
      "print id : 68.0\n",
      "totalcount  []\n"
     ]
    },
    {
     "name": "stderr",
     "output_type": "stream",
     "text": [
      "0: 544x640 8 persons, 1 car, 1 motorcycle, 2 buss, 153.6ms\n",
      "Speed: 5.2ms preprocess, 153.6ms inference, 3.0ms postprocess per image at shape (1, 3, 544, 640)\n",
      "\n"
     ]
    },
    {
     "name": "stdout",
     "output_type": "stream",
     "text": [
      "print id : 73.0\n",
      "print id : 71.0\n",
      "print id : 68.0\n",
      "totalcount  []\n"
     ]
    },
    {
     "name": "stderr",
     "output_type": "stream",
     "text": [
      "0: 544x640 3 persons, 1 car, 3 buss, 140.6ms\n",
      "Speed: 4.2ms preprocess, 140.6ms inference, 2.0ms postprocess per image at shape (1, 3, 544, 640)\n",
      "\n"
     ]
    },
    {
     "name": "stdout",
     "output_type": "stream",
     "text": [
      "print id : 73.0\n",
      "print id : 71.0\n",
      "print id : 68.0\n",
      "totalcount  []\n"
     ]
    },
    {
     "name": "stderr",
     "output_type": "stream",
     "text": [
      "0: 544x640 7 persons, 1 car, 2 motorcycles, 5 buss, 151.8ms\n",
      "Speed: 6.5ms preprocess, 151.8ms inference, 2.0ms postprocess per image at shape (1, 3, 544, 640)\n",
      "\n"
     ]
    },
    {
     "name": "stdout",
     "output_type": "stream",
     "text": [
      "print id : 73.0\n",
      "print id : 71.0\n",
      "print id : 68.0\n",
      "totalcount  []\n"
     ]
    },
    {
     "name": "stderr",
     "output_type": "stream",
     "text": [
      "0: 544x640 9 persons, 1 car, 3 motorcycles, 4 buss, 125.9ms\n",
      "Speed: 4.0ms preprocess, 125.9ms inference, 2.0ms postprocess per image at shape (1, 3, 544, 640)\n",
      "\n"
     ]
    },
    {
     "name": "stdout",
     "output_type": "stream",
     "text": [
      "print id : 74.0\n",
      "print id : 73.0\n",
      "print id : 71.0\n",
      "print id : 68.0\n",
      "totalcount  []\n"
     ]
    },
    {
     "name": "stderr",
     "output_type": "stream",
     "text": [
      "0: 544x640 9 persons, 1 car, 3 motorcycles, 4 buss, 1 truck, 135.7ms\n",
      "Speed: 4.0ms preprocess, 135.7ms inference, 3.0ms postprocess per image at shape (1, 3, 544, 640)\n",
      "\n"
     ]
    },
    {
     "name": "stdout",
     "output_type": "stream",
     "text": [
      "print id : 82.0\n",
      "print id : 74.0\n",
      "print id : 73.0\n",
      "print id : 71.0\n",
      "totalcount  []\n"
     ]
    },
    {
     "name": "stderr",
     "output_type": "stream",
     "text": [
      "0: 544x640 6 persons, 1 car, 3 motorcycles, 6 buss, 137.9ms\n",
      "Speed: 5.0ms preprocess, 137.9ms inference, 3.1ms postprocess per image at shape (1, 3, 544, 640)\n",
      "\n"
     ]
    },
    {
     "name": "stdout",
     "output_type": "stream",
     "text": [
      "print id : 83.0\n",
      "print id : 82.0\n",
      "print id : 74.0\n",
      "print id : 73.0\n",
      "print id : 71.0\n",
      "totalcount  []\n"
     ]
    },
    {
     "name": "stderr",
     "output_type": "stream",
     "text": [
      "0: 544x640 6 persons, 1 car, 2 motorcycles, 7 buss, 163.4ms\n",
      "Speed: 5.2ms preprocess, 163.4ms inference, 3.0ms postprocess per image at shape (1, 3, 544, 640)\n",
      "\n"
     ]
    },
    {
     "name": "stdout",
     "output_type": "stream",
     "text": [
      "print id : 83.0\n",
      "print id : 82.0\n",
      "print id : 80.0\n",
      "print id : 74.0\n",
      "print id : 73.0\n",
      "print id : 71.0\n",
      "print id : 69.0\n",
      "totalcount  []\n"
     ]
    },
    {
     "name": "stderr",
     "output_type": "stream",
     "text": [
      "0: 544x640 7 persons, 1 bicycle, 1 car, 2 motorcycles, 6 buss, 141.0ms\n",
      "Speed: 4.5ms preprocess, 141.0ms inference, 2.0ms postprocess per image at shape (1, 3, 544, 640)\n",
      "\n",
      "0: 544x640 6 persons, 1 car, 2 motorcycles, 3 buss, 128.4ms\n"
     ]
    },
    {
     "name": "stdout",
     "output_type": "stream",
     "text": [
      "print id : 85.0\n",
      "print id : 83.0\n",
      "print id : 82.0\n",
      "print id : 81.0\n",
      "print id : 80.0\n",
      "print id : 73.0\n",
      "print id : 71.0\n",
      "print id : 69.0\n",
      "totalcount  []\n"
     ]
    },
    {
     "name": "stderr",
     "output_type": "stream",
     "text": [
      "Speed: 4.2ms preprocess, 128.4ms inference, 2.0ms postprocess per image at shape (1, 3, 544, 640)\n",
      "\n"
     ]
    },
    {
     "name": "stdout",
     "output_type": "stream",
     "text": [
      "print id : 85.0\n",
      "print id : 83.0\n",
      "print id : 82.0\n",
      "print id : 80.0\n",
      "print id : 73.0\n",
      "print id : 71.0\n",
      "totalcount  []\n"
     ]
    },
    {
     "name": "stderr",
     "output_type": "stream",
     "text": [
      "0: 544x640 8 persons, 1 car, 1 motorcycle, 6 buss, 147.8ms\n",
      "Speed: 4.2ms preprocess, 147.8ms inference, 2.0ms postprocess per image at shape (1, 3, 544, 640)\n",
      "\n"
     ]
    },
    {
     "name": "stdout",
     "output_type": "stream",
     "text": [
      "print id : 85.0\n",
      "print id : 82.0\n",
      "print id : 80.0\n",
      "print id : 73.0\n",
      "print id : 71.0\n",
      "totalcount  []\n"
     ]
    },
    {
     "name": "stderr",
     "output_type": "stream",
     "text": [
      "0: 544x640 7 persons, 1 car, 1 motorcycle, 6 buss, 151.3ms\n",
      "Speed: 5.0ms preprocess, 151.3ms inference, 2.0ms postprocess per image at shape (1, 3, 544, 640)\n",
      "\n"
     ]
    },
    {
     "name": "stdout",
     "output_type": "stream",
     "text": [
      "print id : 85.0\n",
      "print id : 82.0\n",
      "print id : 80.0\n",
      "print id : 73.0\n",
      "print id : 71.0\n",
      "totalcount  []\n"
     ]
    },
    {
     "name": "stderr",
     "output_type": "stream",
     "text": [
      "0: 544x640 6 persons, 1 car, 2 motorcycles, 5 buss, 1 truck, 152.2ms\n",
      "Speed: 5.3ms preprocess, 152.2ms inference, 2.0ms postprocess per image at shape (1, 3, 544, 640)\n",
      "\n"
     ]
    },
    {
     "name": "stdout",
     "output_type": "stream",
     "text": [
      "print id : 85.0\n",
      "print id : 82.0\n",
      "print id : 81.0\n",
      "print id : 80.0\n",
      "print id : 74.0\n",
      "print id : 73.0\n",
      "print id : 71.0\n",
      "print id : 69.0\n",
      "totalcount  []\n"
     ]
    },
    {
     "name": "stderr",
     "output_type": "stream",
     "text": [
      "0: 544x640 7 persons, 1 car, 2 motorcycles, 5 buss, 141.0ms\n",
      "Speed: 4.3ms preprocess, 141.0ms inference, 3.3ms postprocess per image at shape (1, 3, 544, 640)\n",
      "\n"
     ]
    },
    {
     "name": "stdout",
     "output_type": "stream",
     "text": [
      "print id : 85.0\n",
      "print id : 82.0\n",
      "print id : 81.0\n",
      "print id : 80.0\n",
      "print id : 73.0\n",
      "print id : 71.0\n",
      "print id : 69.0\n",
      "totalcount  []\n"
     ]
    },
    {
     "name": "stderr",
     "output_type": "stream",
     "text": [
      "0: 544x640 10 persons, 1 car, 1 motorcycle, 3 buss, 147.1ms\n",
      "Speed: 5.4ms preprocess, 147.1ms inference, 2.0ms postprocess per image at shape (1, 3, 544, 640)\n",
      "\n"
     ]
    },
    {
     "name": "stdout",
     "output_type": "stream",
     "text": [
      "print id : 85.0\n",
      "print id : 83.0\n",
      "print id : 73.0\n",
      "print id : 71.0\n",
      "print id : 69.0\n",
      "totalcount  []\n"
     ]
    },
    {
     "name": "stderr",
     "output_type": "stream",
     "text": [
      "0: 544x640 5 persons, 1 car, 2 motorcycles, 4 buss, 146.1ms\n",
      "Speed: 4.3ms preprocess, 146.1ms inference, 2.0ms postprocess per image at shape (1, 3, 544, 640)\n",
      "\n"
     ]
    },
    {
     "name": "stdout",
     "output_type": "stream",
     "text": [
      "print id : 85.0\n",
      "print id : 83.0\n",
      "print id : 73.0\n",
      "print id : 71.0\n",
      "print id : 69.0\n",
      "totalcount  []\n"
     ]
    },
    {
     "name": "stderr",
     "output_type": "stream",
     "text": [
      "0: 544x640 5 persons, 1 bicycle, 1 car, 2 motorcycles, 4 buss, 154.3ms\n",
      "Speed: 5.4ms preprocess, 154.3ms inference, 3.0ms postprocess per image at shape (1, 3, 544, 640)\n",
      "\n"
     ]
    },
    {
     "name": "stdout",
     "output_type": "stream",
     "text": [
      "print id : 85.0\n",
      "print id : 83.0\n",
      "print id : 73.0\n",
      "print id : 71.0\n",
      "print id : 69.0\n",
      "totalcount  []\n"
     ]
    },
    {
     "name": "stderr",
     "output_type": "stream",
     "text": [
      "0: 544x640 5 persons, 1 bicycle, 1 car, 2 motorcycles, 3 buss, 152.0ms\n",
      "Speed: 6.2ms preprocess, 152.0ms inference, 3.0ms postprocess per image at shape (1, 3, 544, 640)\n",
      "\n"
     ]
    },
    {
     "name": "stdout",
     "output_type": "stream",
     "text": [
      "print id : 85.0\n",
      "print id : 83.0\n",
      "print id : 73.0\n",
      "print id : 71.0\n",
      "print id : 69.0\n",
      "totalcount  []\n"
     ]
    },
    {
     "name": "stderr",
     "output_type": "stream",
     "text": [
      "0: 544x640 7 persons, 1 car, 2 motorcycles, 3 buss, 124.9ms\n",
      "Speed: 4.3ms preprocess, 124.9ms inference, 2.0ms postprocess per image at shape (1, 3, 544, 640)\n",
      "\n",
      "0: 544x640 6 persons, 1 bicycle, 1 car, 1 motorcycle, 3 buss, 1 truck, 106.6ms\n"
     ]
    },
    {
     "name": "stdout",
     "output_type": "stream",
     "text": [
      "print id : 87.0\n",
      "print id : 85.0\n",
      "print id : 83.0\n",
      "print id : 73.0\n",
      "print id : 71.0\n",
      "print id : 69.0\n",
      "totalcount  []\n"
     ]
    },
    {
     "name": "stderr",
     "output_type": "stream",
     "text": [
      "Speed: 5.0ms preprocess, 106.6ms inference, 2.0ms postprocess per image at shape (1, 3, 544, 640)\n",
      "\n"
     ]
    },
    {
     "name": "stdout",
     "output_type": "stream",
     "text": [
      "print id : 85.0\n",
      "print id : 83.0\n",
      "print id : 73.0\n",
      "print id : 71.0\n",
      "print id : 69.0\n",
      "totalcount  []\n"
     ]
    },
    {
     "name": "stderr",
     "output_type": "stream",
     "text": [
      "0: 544x640 6 persons, 1 car, 1 motorcycle, 3 buss, 1 truck, 153.8ms\n",
      "Speed: 5.0ms preprocess, 153.8ms inference, 1.0ms postprocess per image at shape (1, 3, 544, 640)\n",
      "\n"
     ]
    },
    {
     "name": "stdout",
     "output_type": "stream",
     "text": [
      "print id : 85.0\n",
      "print id : 73.0\n",
      "print id : 71.0\n",
      "print id : 69.0\n",
      "totalcount  []\n"
     ]
    },
    {
     "name": "stderr",
     "output_type": "stream",
     "text": [
      "0: 544x640 6 persons, 1 car, 3 buss, 1 truck, 143.7ms\n",
      "Speed: 4.0ms preprocess, 143.7ms inference, 1.0ms postprocess per image at shape (1, 3, 544, 640)\n",
      "\n"
     ]
    },
    {
     "name": "stdout",
     "output_type": "stream",
     "text": [
      "print id : 85.0\n",
      "print id : 74.0\n",
      "print id : 73.0\n",
      "print id : 71.0\n",
      "print id : 69.0\n",
      "totalcount  []\n"
     ]
    },
    {
     "name": "stderr",
     "output_type": "stream",
     "text": [
      "0: 544x640 6 persons, 1 car, 3 buss, 1 truck, 145.6ms\n",
      "Speed: 6.0ms preprocess, 145.6ms inference, 2.9ms postprocess per image at shape (1, 3, 544, 640)\n",
      "\n"
     ]
    },
    {
     "name": "stdout",
     "output_type": "stream",
     "text": [
      "print id : 85.0\n",
      "print id : 74.0\n",
      "print id : 73.0\n",
      "print id : 71.0\n",
      "print id : 69.0\n",
      "totalcount  []\n"
     ]
    },
    {
     "name": "stderr",
     "output_type": "stream",
     "text": [
      "0: 544x640 5 persons, 1 car, 1 motorcycle, 5 buss, 1 truck, 135.3ms\n",
      "Speed: 4.0ms preprocess, 135.3ms inference, 2.0ms postprocess per image at shape (1, 3, 544, 640)\n",
      "\n"
     ]
    },
    {
     "name": "stdout",
     "output_type": "stream",
     "text": [
      "print id : 85.0\n",
      "print id : 74.0\n",
      "print id : 73.0\n",
      "print id : 71.0\n",
      "print id : 69.0\n",
      "totalcount  []\n"
     ]
    },
    {
     "name": "stderr",
     "output_type": "stream",
     "text": [
      "0: 544x640 8 persons, 1 car, 1 motorcycle, 4 buss, 1 truck, 149.7ms\n",
      "Speed: 4.2ms preprocess, 149.7ms inference, 3.4ms postprocess per image at shape (1, 3, 544, 640)\n",
      "\n"
     ]
    },
    {
     "name": "stdout",
     "output_type": "stream",
     "text": [
      "print id : 85.0\n",
      "print id : 74.0\n",
      "print id : 73.0\n",
      "print id : 71.0\n",
      "print id : 69.0\n",
      "totalcount  []\n"
     ]
    },
    {
     "name": "stderr",
     "output_type": "stream",
     "text": [
      "0: 544x640 8 persons, 1 car, 1 motorcycle, 6 buss, 1 truck, 133.4ms\n",
      "Speed: 5.0ms preprocess, 133.4ms inference, 2.0ms postprocess per image at shape (1, 3, 544, 640)\n",
      "\n"
     ]
    },
    {
     "name": "stdout",
     "output_type": "stream",
     "text": [
      "print id : 85.0\n",
      "print id : 83.0\n",
      "print id : 74.0\n",
      "print id : 73.0\n",
      "print id : 71.0\n",
      "print id : 69.0\n",
      "print id : 68.0\n",
      "totalcount  []\n"
     ]
    },
    {
     "name": "stderr",
     "output_type": "stream",
     "text": [
      "0: 544x640 6 persons, 1 car, 1 motorcycle, 6 buss, 1 truck, 142.6ms\n",
      "Speed: 5.3ms preprocess, 142.6ms inference, 3.0ms postprocess per image at shape (1, 3, 544, 640)\n",
      "\n"
     ]
    },
    {
     "name": "stdout",
     "output_type": "stream",
     "text": [
      "print id : 85.0\n",
      "print id : 83.0\n",
      "print id : 74.0\n",
      "print id : 73.0\n",
      "print id : 71.0\n",
      "print id : 69.0\n",
      "print id : 68.0\n",
      "totalcount  []\n"
     ]
    },
    {
     "name": "stderr",
     "output_type": "stream",
     "text": [
      "0: 544x640 8 persons, 1 car, 2 motorcycles, 2 buss, 1 truck, 148.2ms\n",
      "Speed: 4.0ms preprocess, 148.2ms inference, 3.0ms postprocess per image at shape (1, 3, 544, 640)\n",
      "\n"
     ]
    },
    {
     "name": "stdout",
     "output_type": "stream",
     "text": [
      "print id : 85.0\n",
      "print id : 83.0\n",
      "print id : 73.0\n",
      "print id : 71.0\n",
      "print id : 68.0\n",
      "totalcount  []\n"
     ]
    },
    {
     "name": "stderr",
     "output_type": "stream",
     "text": [
      "0: 544x640 8 persons, 1 car, 3 motorcycles, 3 buss, 1 truck, 145.1ms\n",
      "Speed: 4.4ms preprocess, 145.1ms inference, 4.0ms postprocess per image at shape (1, 3, 544, 640)\n",
      "\n"
     ]
    },
    {
     "name": "stdout",
     "output_type": "stream",
     "text": [
      "print id : 85.0\n",
      "print id : 83.0\n",
      "print id : 73.0\n",
      "print id : 71.0\n",
      "print id : 68.0\n",
      "totalcount  []\n"
     ]
    },
    {
     "name": "stderr",
     "output_type": "stream",
     "text": [
      "0: 544x640 8 persons, 1 car, 3 motorcycles, 3 buss, 1 truck, 154.1ms\n",
      "Speed: 5.1ms preprocess, 154.1ms inference, 2.0ms postprocess per image at shape (1, 3, 544, 640)\n",
      "\n"
     ]
    },
    {
     "name": "stdout",
     "output_type": "stream",
     "text": [
      "print id : 87.0\n",
      "print id : 85.0\n",
      "print id : 83.0\n",
      "print id : 73.0\n",
      "print id : 71.0\n",
      "print id : 68.0\n",
      "totalcount  []\n"
     ]
    },
    {
     "name": "stderr",
     "output_type": "stream",
     "text": [
      "0: 544x640 6 persons, 1 car, 4 motorcycles, 1 bus, 1 truck, 143.9ms\n",
      "Speed: 5.0ms preprocess, 143.9ms inference, 2.0ms postprocess per image at shape (1, 3, 544, 640)\n",
      "\n"
     ]
    },
    {
     "name": "stdout",
     "output_type": "stream",
     "text": [
      "print id : 87.0\n",
      "print id : 85.0\n",
      "print id : 83.0\n",
      "print id : 73.0\n",
      "print id : 71.0\n",
      "totalcount  []\n"
     ]
    },
    {
     "name": "stderr",
     "output_type": "stream",
     "text": [
      "0: 544x640 10 persons, 1 car, 4 motorcycles, 1 bus, 1 truck, 153.4ms\n",
      "Speed: 5.7ms preprocess, 153.4ms inference, 2.0ms postprocess per image at shape (1, 3, 544, 640)\n",
      "\n"
     ]
    },
    {
     "name": "stdout",
     "output_type": "stream",
     "text": [
      "print id : 87.0\n",
      "print id : 85.0\n",
      "print id : 83.0\n",
      "print id : 73.0\n",
      "print id : 71.0\n",
      "totalcount  []\n"
     ]
    },
    {
     "name": "stderr",
     "output_type": "stream",
     "text": [
      "0: 544x640 8 persons, 1 car, 3 motorcycles, 1 bus, 1 truck, 137.6ms\n",
      "Speed: 4.3ms preprocess, 137.6ms inference, 2.0ms postprocess per image at shape (1, 3, 544, 640)\n",
      "\n"
     ]
    },
    {
     "name": "stdout",
     "output_type": "stream",
     "text": [
      "print id : 87.0\n",
      "print id : 85.0\n",
      "print id : 83.0\n",
      "print id : 73.0\n",
      "print id : 71.0\n",
      "totalcount  []\n"
     ]
    },
    {
     "name": "stderr",
     "output_type": "stream",
     "text": [
      "0: 544x640 9 persons, 1 car, 3 motorcycles, 1 bus, 1 truck, 148.4ms\n",
      "Speed: 5.6ms preprocess, 148.4ms inference, 4.0ms postprocess per image at shape (1, 3, 544, 640)\n",
      "\n",
      "0: 544x640 9 persons, 1 car, 5 motorcycles, 1 bus, 139.2ms\n"
     ]
    },
    {
     "name": "stdout",
     "output_type": "stream",
     "text": [
      "print id : 90.0\n",
      "print id : 87.0\n",
      "print id : 85.0\n",
      "print id : 83.0\n",
      "print id : 73.0\n",
      "print id : 71.0\n",
      "totalcount  []\n"
     ]
    },
    {
     "name": "stderr",
     "output_type": "stream",
     "text": [
      "Speed: 4.1ms preprocess, 139.2ms inference, 2.0ms postprocess per image at shape (1, 3, 544, 640)\n",
      "\n"
     ]
    },
    {
     "name": "stdout",
     "output_type": "stream",
     "text": [
      "print id : 90.0\n",
      "print id : 87.0\n",
      "print id : 83.0\n",
      "print id : 73.0\n",
      "print id : 71.0\n",
      "totalcount  []\n"
     ]
    },
    {
     "name": "stderr",
     "output_type": "stream",
     "text": [
      "0: 544x640 9 persons, 1 car, 2 motorcycles, 1 bus, 140.1ms\n",
      "Speed: 4.2ms preprocess, 140.1ms inference, 2.0ms postprocess per image at shape (1, 3, 544, 640)\n",
      "\n"
     ]
    },
    {
     "name": "stdout",
     "output_type": "stream",
     "text": [
      "print id : 90.0\n",
      "print id : 83.0\n",
      "print id : 73.0\n",
      "print id : 71.0\n",
      "totalcount  [73.0]\n"
     ]
    },
    {
     "name": "stderr",
     "output_type": "stream",
     "text": [
      "0: 544x640 11 persons, 1 car, 2 motorcycles, 1 bus, 134.1ms\n",
      "Speed: 5.0ms preprocess, 134.1ms inference, 2.0ms postprocess per image at shape (1, 3, 544, 640)\n",
      "\n"
     ]
    },
    {
     "name": "stdout",
     "output_type": "stream",
     "text": [
      "print id : 90.0\n",
      "print id : 83.0\n",
      "print id : 73.0\n",
      "print id : 71.0\n",
      "totalcount  [73.0]\n"
     ]
    },
    {
     "name": "stderr",
     "output_type": "stream",
     "text": [
      "0: 544x640 9 persons, 1 car, 2 motorcycles, 1 bus, 140.0ms\n",
      "Speed: 4.0ms preprocess, 140.0ms inference, 5.5ms postprocess per image at shape (1, 3, 544, 640)\n",
      "\n"
     ]
    },
    {
     "name": "stdout",
     "output_type": "stream",
     "text": [
      "print id : 90.0\n",
      "print id : 83.0\n",
      "print id : 73.0\n",
      "print id : 71.0\n",
      "totalcount  [73.0]\n"
     ]
    },
    {
     "name": "stderr",
     "output_type": "stream",
     "text": [
      "0: 544x640 7 persons, 1 car, 1 motorcycle, 1 bus, 140.3ms\n",
      "Speed: 6.0ms preprocess, 140.3ms inference, 2.0ms postprocess per image at shape (1, 3, 544, 640)\n",
      "\n"
     ]
    },
    {
     "name": "stdout",
     "output_type": "stream",
     "text": [
      "print id : 83.0\n",
      "print id : 73.0\n",
      "print id : 71.0\n",
      "totalcount  [73.0]\n"
     ]
    },
    {
     "name": "stderr",
     "output_type": "stream",
     "text": [
      "0: 544x640 6 persons, 1 car, 1 motorcycle, 1 bus, 139.5ms\n",
      "Speed: 5.0ms preprocess, 139.5ms inference, 3.0ms postprocess per image at shape (1, 3, 544, 640)\n",
      "\n"
     ]
    },
    {
     "name": "stdout",
     "output_type": "stream",
     "text": [
      "print id : 83.0\n",
      "print id : 73.0\n",
      "print id : 71.0\n",
      "totalcount  [73.0]\n"
     ]
    },
    {
     "name": "stderr",
     "output_type": "stream",
     "text": [
      "0: 544x640 8 persons, 1 car, 1 motorcycle, 1 bus, 150.7ms\n",
      "Speed: 5.0ms preprocess, 150.7ms inference, 2.0ms postprocess per image at shape (1, 3, 544, 640)\n",
      "\n"
     ]
    },
    {
     "name": "stdout",
     "output_type": "stream",
     "text": [
      "print id : 83.0\n",
      "print id : 73.0\n",
      "print id : 71.0\n",
      "totalcount  [73.0]\n"
     ]
    },
    {
     "name": "stderr",
     "output_type": "stream",
     "text": [
      "0: 544x640 7 persons, 1 car, 1 motorcycle, 1 bus, 144.4ms\n",
      "Speed: 4.5ms preprocess, 144.4ms inference, 3.0ms postprocess per image at shape (1, 3, 544, 640)\n",
      "\n"
     ]
    },
    {
     "name": "stdout",
     "output_type": "stream",
     "text": [
      "print id : 83.0\n",
      "print id : 73.0\n",
      "print id : 71.0\n",
      "totalcount  [73.0]\n"
     ]
    },
    {
     "name": "stderr",
     "output_type": "stream",
     "text": [
      "0: 544x640 6 persons, 1 bicycle, 1 car, 1 motorcycle, 1 bus, 140.1ms\n",
      "Speed: 5.0ms preprocess, 140.1ms inference, 2.0ms postprocess per image at shape (1, 3, 544, 640)\n",
      "\n"
     ]
    },
    {
     "name": "stdout",
     "output_type": "stream",
     "text": [
      "print id : 83.0\n",
      "print id : 73.0\n",
      "print id : 71.0\n",
      "totalcount  [73.0]\n"
     ]
    },
    {
     "name": "stderr",
     "output_type": "stream",
     "text": [
      "0: 544x640 5 persons, 1 bicycle, 1 car, 1 motorcycle, 1 bus, 137.0ms\n",
      "Speed: 4.5ms preprocess, 137.0ms inference, 4.7ms postprocess per image at shape (1, 3, 544, 640)\n",
      "\n"
     ]
    },
    {
     "name": "stdout",
     "output_type": "stream",
     "text": [
      "print id : 83.0\n",
      "print id : 73.0\n",
      "print id : 71.0\n",
      "totalcount  [73.0]\n"
     ]
    },
    {
     "name": "stderr",
     "output_type": "stream",
     "text": [
      "0: 544x640 5 persons, 1 car, 1 motorcycle, 1 bus, 141.2ms\n",
      "Speed: 6.4ms preprocess, 141.2ms inference, 4.0ms postprocess per image at shape (1, 3, 544, 640)\n",
      "\n"
     ]
    },
    {
     "name": "stdout",
     "output_type": "stream",
     "text": [
      "print id : 83.0\n",
      "print id : 73.0\n",
      "print id : 71.0\n",
      "totalcount  [73.0]\n"
     ]
    },
    {
     "name": "stderr",
     "output_type": "stream",
     "text": [
      "0: 544x640 6 persons, 1 car, 1 motorcycle, 1 bus, 143.4ms\n",
      "Speed: 4.3ms preprocess, 143.4ms inference, 3.0ms postprocess per image at shape (1, 3, 544, 640)\n",
      "\n"
     ]
    },
    {
     "name": "stdout",
     "output_type": "stream",
     "text": [
      "print id : 83.0\n",
      "print id : 73.0\n",
      "print id : 71.0\n",
      "totalcount  [73.0]\n"
     ]
    },
    {
     "name": "stderr",
     "output_type": "stream",
     "text": [
      "0: 544x640 5 persons, 1 car, 1 motorcycle, 1 bus, 150.3ms\n",
      "Speed: 6.3ms preprocess, 150.3ms inference, 2.0ms postprocess per image at shape (1, 3, 544, 640)\n",
      "\n"
     ]
    },
    {
     "name": "stdout",
     "output_type": "stream",
     "text": [
      "print id : 83.0\n",
      "print id : 73.0\n",
      "print id : 71.0\n",
      "totalcount  [73.0]\n"
     ]
    },
    {
     "name": "stderr",
     "output_type": "stream",
     "text": [
      "0: 544x640 5 persons, 1 car, 1 motorcycle, 1 bus, 146.8ms\n",
      "Speed: 5.0ms preprocess, 146.8ms inference, 3.0ms postprocess per image at shape (1, 3, 544, 640)\n",
      "\n"
     ]
    },
    {
     "name": "stdout",
     "output_type": "stream",
     "text": [
      "print id : 83.0\n",
      "print id : 73.0\n",
      "print id : 71.0\n",
      "totalcount  [73.0]\n"
     ]
    },
    {
     "name": "stderr",
     "output_type": "stream",
     "text": [
      "0: 544x640 5 persons, 1 car, 1 motorcycle, 1 bus, 148.5ms\n",
      "Speed: 4.5ms preprocess, 148.5ms inference, 2.0ms postprocess per image at shape (1, 3, 544, 640)\n",
      "\n"
     ]
    },
    {
     "name": "stdout",
     "output_type": "stream",
     "text": [
      "print id : 83.0\n",
      "print id : 73.0\n",
      "print id : 71.0\n",
      "totalcount  [73.0]\n"
     ]
    },
    {
     "name": "stderr",
     "output_type": "stream",
     "text": [
      "0: 544x640 5 persons, 1 car, 1 motorcycle, 1 bus, 137.9ms\n",
      "Speed: 5.4ms preprocess, 137.9ms inference, 2.0ms postprocess per image at shape (1, 3, 544, 640)\n",
      "\n"
     ]
    },
    {
     "name": "stdout",
     "output_type": "stream",
     "text": [
      "print id : 83.0\n",
      "print id : 73.0\n",
      "print id : 71.0\n",
      "totalcount  [73.0]\n"
     ]
    },
    {
     "name": "stderr",
     "output_type": "stream",
     "text": [
      "0: 544x640 4 persons, 1 car, 1 motorcycle, 1 bus, 1 truck, 159.2ms\n",
      "Speed: 5.2ms preprocess, 159.2ms inference, 2.0ms postprocess per image at shape (1, 3, 544, 640)\n",
      "\n"
     ]
    },
    {
     "name": "stdout",
     "output_type": "stream",
     "text": [
      "print id : 83.0\n",
      "print id : 73.0\n",
      "print id : 71.0\n",
      "totalcount  [73.0]\n"
     ]
    },
    {
     "name": "stderr",
     "output_type": "stream",
     "text": [
      "0: 544x640 4 persons, 1 car, 1 motorcycle, 1 bus, 1 truck, 142.9ms\n",
      "Speed: 5.2ms preprocess, 142.9ms inference, 2.0ms postprocess per image at shape (1, 3, 544, 640)\n",
      "\n"
     ]
    },
    {
     "name": "stdout",
     "output_type": "stream",
     "text": [
      "print id : 83.0\n",
      "print id : 73.0\n",
      "print id : 71.0\n",
      "totalcount  [73.0]\n"
     ]
    },
    {
     "name": "stderr",
     "output_type": "stream",
     "text": [
      "0: 544x640 5 persons, 1 car, 1 motorcycle, 1 bus, 1 truck, 153.4ms\n",
      "Speed: 4.2ms preprocess, 153.4ms inference, 3.0ms postprocess per image at shape (1, 3, 544, 640)\n",
      "\n"
     ]
    },
    {
     "name": "stdout",
     "output_type": "stream",
     "text": [
      "print id : 85.0\n",
      "print id : 83.0\n",
      "print id : 73.0\n",
      "print id : 71.0\n",
      "totalcount  [73.0]\n"
     ]
    },
    {
     "name": "stderr",
     "output_type": "stream",
     "text": [
      "0: 544x640 4 persons, 1 car, 1 motorcycle, 1 bus, 1 truck, 142.6ms\n",
      "Speed: 5.0ms preprocess, 142.6ms inference, 2.1ms postprocess per image at shape (1, 3, 544, 640)\n",
      "\n"
     ]
    },
    {
     "name": "stdout",
     "output_type": "stream",
     "text": [
      "print id : 85.0\n",
      "print id : 83.0\n",
      "print id : 73.0\n",
      "print id : 71.0\n",
      "totalcount  [73.0, 83.0]\n"
     ]
    },
    {
     "name": "stderr",
     "output_type": "stream",
     "text": [
      "0: 544x640 3 persons, 1 car, 2 motorcycles, 1 bus, 1 truck, 162.8ms\n",
      "Speed: 5.0ms preprocess, 162.8ms inference, 1.5ms postprocess per image at shape (1, 3, 544, 640)\n",
      "\n"
     ]
    },
    {
     "name": "stdout",
     "output_type": "stream",
     "text": [
      "print id : 85.0\n",
      "print id : 83.0\n",
      "print id : 73.0\n",
      "print id : 71.0\n",
      "totalcount  [73.0, 83.0]\n"
     ]
    },
    {
     "name": "stderr",
     "output_type": "stream",
     "text": [
      "0: 544x640 3 persons, 1 car, 2 motorcycles, 1 bus, 1 truck, 153.4ms\n",
      "Speed: 5.0ms preprocess, 153.4ms inference, 2.0ms postprocess per image at shape (1, 3, 544, 640)\n",
      "\n"
     ]
    },
    {
     "name": "stdout",
     "output_type": "stream",
     "text": [
      "print id : 85.0\n",
      "print id : 83.0\n",
      "print id : 73.0\n",
      "print id : 71.0\n",
      "totalcount  [73.0, 83.0]\n"
     ]
    },
    {
     "name": "stderr",
     "output_type": "stream",
     "text": [
      "0: 544x640 5 persons, 1 car, 2 motorcycles, 1 bus, 1 truck, 147.1ms\n",
      "Speed: 4.5ms preprocess, 147.1ms inference, 2.0ms postprocess per image at shape (1, 3, 544, 640)\n",
      "\n"
     ]
    },
    {
     "name": "stdout",
     "output_type": "stream",
     "text": [
      "print id : 92.0\n",
      "print id : 85.0\n",
      "print id : 83.0\n",
      "print id : 73.0\n",
      "print id : 71.0\n",
      "totalcount  [73.0, 83.0]\n"
     ]
    },
    {
     "name": "stderr",
     "output_type": "stream",
     "text": [
      "0: 544x640 7 persons, 1 car, 2 motorcycles, 1 bus, 1 truck, 141.2ms\n",
      "Speed: 6.0ms preprocess, 141.2ms inference, 3.5ms postprocess per image at shape (1, 3, 544, 640)\n",
      "\n"
     ]
    },
    {
     "name": "stdout",
     "output_type": "stream",
     "text": [
      "print id : 92.0\n",
      "print id : 85.0\n",
      "print id : 83.0\n",
      "print id : 73.0\n",
      "print id : 71.0\n",
      "totalcount  [73.0, 83.0]\n"
     ]
    },
    {
     "name": "stderr",
     "output_type": "stream",
     "text": [
      "0: 544x640 8 persons, 1 car, 2 motorcycles, 1 bus, 1 truck, 143.1ms\n",
      "Speed: 6.1ms preprocess, 143.1ms inference, 4.0ms postprocess per image at shape (1, 3, 544, 640)\n",
      "\n"
     ]
    },
    {
     "name": "stdout",
     "output_type": "stream",
     "text": [
      "print id : 92.0\n",
      "print id : 85.0\n",
      "print id : 83.0\n",
      "print id : 73.0\n",
      "print id : 71.0\n",
      "totalcount  [73.0, 83.0]\n"
     ]
    },
    {
     "name": "stderr",
     "output_type": "stream",
     "text": [
      "0: 544x640 8 persons, 1 car, 2 motorcycles, 1 bus, 1 truck, 141.1ms\n",
      "Speed: 7.0ms preprocess, 141.1ms inference, 5.0ms postprocess per image at shape (1, 3, 544, 640)\n",
      "\n"
     ]
    },
    {
     "name": "stdout",
     "output_type": "stream",
     "text": [
      "print id : 92.0\n",
      "print id : 85.0\n",
      "print id : 83.0\n",
      "print id : 73.0\n",
      "print id : 71.0\n",
      "totalcount  [73.0, 83.0]\n"
     ]
    },
    {
     "name": "stderr",
     "output_type": "stream",
     "text": [
      "0: 544x640 6 persons, 1 car, 3 motorcycles, 1 bus, 1 truck, 138.8ms\n",
      "Speed: 5.0ms preprocess, 138.8ms inference, 3.5ms postprocess per image at shape (1, 3, 544, 640)\n",
      "\n"
     ]
    },
    {
     "name": "stdout",
     "output_type": "stream",
     "text": [
      "print id : 92.0\n",
      "print id : 85.0\n",
      "print id : 83.0\n",
      "print id : 73.0\n",
      "print id : 71.0\n",
      "totalcount  [73.0, 83.0]\n"
     ]
    },
    {
     "name": "stderr",
     "output_type": "stream",
     "text": [
      "0: 544x640 5 persons, 1 bicycle, 1 car, 3 motorcycles, 1 bus, 157.2ms\n",
      "Speed: 4.5ms preprocess, 157.2ms inference, 3.4ms postprocess per image at shape (1, 3, 544, 640)\n",
      "\n",
      "0: 544x640 7 persons, 1 car, 3 motorcycles, 2 buss, 131.6ms\n"
     ]
    },
    {
     "name": "stdout",
     "output_type": "stream",
     "text": [
      "print id : 92.0\n",
      "print id : 83.0\n",
      "print id : 73.0\n",
      "print id : 71.0\n",
      "totalcount  [73.0, 83.0]\n"
     ]
    },
    {
     "name": "stderr",
     "output_type": "stream",
     "text": [
      "Speed: 4.0ms preprocess, 131.6ms inference, 2.0ms postprocess per image at shape (1, 3, 544, 640)\n",
      "\n"
     ]
    },
    {
     "name": "stdout",
     "output_type": "stream",
     "text": [
      "print id : 92.0\n",
      "print id : 83.0\n",
      "print id : 73.0\n",
      "print id : 71.0\n",
      "totalcount  [73.0, 83.0]\n"
     ]
    },
    {
     "name": "stderr",
     "output_type": "stream",
     "text": [
      "0: 544x640 11 persons, 1 car, 3 motorcycles, 2 buss, 160.8ms\n",
      "Speed: 6.0ms preprocess, 160.8ms inference, 2.4ms postprocess per image at shape (1, 3, 544, 640)\n",
      "\n"
     ]
    },
    {
     "name": "stdout",
     "output_type": "stream",
     "text": [
      "print id : 92.0\n",
      "print id : 83.0\n",
      "print id : 73.0\n",
      "print id : 71.0\n",
      "totalcount  [73.0, 83.0]\n"
     ]
    },
    {
     "name": "stderr",
     "output_type": "stream",
     "text": [
      "0: 544x640 10 persons, 1 bicycle, 1 car, 2 motorcycles, 2 buss, 1 truck, 148.1ms\n",
      "Speed: 6.0ms preprocess, 148.1ms inference, 2.2ms postprocess per image at shape (1, 3, 544, 640)\n",
      "\n"
     ]
    },
    {
     "name": "stdout",
     "output_type": "stream",
     "text": [
      "print id : 93.0\n",
      "print id : 85.0\n",
      "print id : 83.0\n",
      "print id : 73.0\n",
      "print id : 71.0\n",
      "totalcount  [73.0, 83.0]\n"
     ]
    },
    {
     "name": "stderr",
     "output_type": "stream",
     "text": [
      "0: 544x640 7 persons, 1 car, 3 motorcycles, 2 buss, 1 truck, 149.1ms\n",
      "Speed: 4.0ms preprocess, 149.1ms inference, 3.0ms postprocess per image at shape (1, 3, 544, 640)\n",
      "\n"
     ]
    },
    {
     "name": "stdout",
     "output_type": "stream",
     "text": [
      "print id : 93.0\n",
      "print id : 85.0\n",
      "print id : 83.0\n",
      "print id : 73.0\n",
      "print id : 71.0\n",
      "totalcount  [73.0, 83.0]\n"
     ]
    },
    {
     "name": "stderr",
     "output_type": "stream",
     "text": [
      "0: 544x640 10 persons, 1 car, 3 motorcycles, 2 buss, 1 truck, 148.7ms\n",
      "Speed: 6.1ms preprocess, 148.7ms inference, 3.0ms postprocess per image at shape (1, 3, 544, 640)\n",
      "\n"
     ]
    },
    {
     "name": "stdout",
     "output_type": "stream",
     "text": [
      "print id : 93.0\n",
      "print id : 85.0\n",
      "print id : 83.0\n",
      "print id : 73.0\n",
      "print id : 71.0\n",
      "totalcount  [73.0, 83.0]\n"
     ]
    },
    {
     "name": "stderr",
     "output_type": "stream",
     "text": [
      "0: 544x640 11 persons, 1 car, 3 motorcycles, 3 buss, 1 truck, 199.5ms\n",
      "Speed: 5.2ms preprocess, 199.5ms inference, 2.0ms postprocess per image at shape (1, 3, 544, 640)\n",
      "\n"
     ]
    },
    {
     "name": "stdout",
     "output_type": "stream",
     "text": [
      "print id : 94.0\n",
      "print id : 93.0\n",
      "print id : 92.0\n",
      "print id : 85.0\n",
      "print id : 83.0\n",
      "print id : 71.0\n",
      "totalcount  [73.0, 83.0]\n"
     ]
    },
    {
     "name": "stderr",
     "output_type": "stream",
     "text": [
      "0: 544x640 9 persons, 3 motorcycles, 1 bus, 1 truck, 155.6ms\n",
      "Speed: 6.4ms preprocess, 155.6ms inference, 2.1ms postprocess per image at shape (1, 3, 544, 640)\n",
      "\n"
     ]
    },
    {
     "name": "stdout",
     "output_type": "stream",
     "text": [
      "print id : 94.0\n",
      "print id : 93.0\n",
      "print id : 92.0\n",
      "print id : 83.0\n",
      "print id : 71.0\n",
      "totalcount  [73.0, 83.0]\n"
     ]
    },
    {
     "name": "stderr",
     "output_type": "stream",
     "text": [
      "0: 544x640 11 persons, 3 motorcycles, 1 bus, 1 truck, 170.0ms\n",
      "Speed: 5.1ms preprocess, 170.0ms inference, 1.1ms postprocess per image at shape (1, 3, 544, 640)\n",
      "\n"
     ]
    },
    {
     "name": "stdout",
     "output_type": "stream",
     "text": [
      "print id : 94.0\n",
      "print id : 93.0\n",
      "print id : 92.0\n",
      "print id : 83.0\n",
      "print id : 71.0\n",
      "totalcount  [73.0, 83.0]\n"
     ]
    },
    {
     "name": "stderr",
     "output_type": "stream",
     "text": [
      "0: 544x640 8 persons, 3 motorcycles, 1 bus, 1 truck, 189.2ms\n",
      "Speed: 6.0ms preprocess, 189.2ms inference, 2.0ms postprocess per image at shape (1, 3, 544, 640)\n",
      "\n"
     ]
    },
    {
     "name": "stdout",
     "output_type": "stream",
     "text": [
      "print id : 94.0\n",
      "print id : 93.0\n",
      "print id : 92.0\n",
      "print id : 83.0\n",
      "print id : 71.0\n",
      "totalcount  [73.0, 83.0]\n"
     ]
    },
    {
     "name": "stderr",
     "output_type": "stream",
     "text": [
      "0: 544x640 12 persons, 1 bicycle, 3 motorcycles, 1 bus, 1 truck, 163.3ms\n",
      "Speed: 6.0ms preprocess, 163.3ms inference, 2.3ms postprocess per image at shape (1, 3, 544, 640)\n",
      "\n"
     ]
    },
    {
     "name": "stdout",
     "output_type": "stream",
     "text": [
      "print id : 94.0\n",
      "print id : 93.0\n",
      "print id : 92.0\n",
      "print id : 83.0\n",
      "print id : 71.0\n",
      "totalcount  [73.0, 83.0]\n"
     ]
    },
    {
     "name": "stderr",
     "output_type": "stream",
     "text": [
      "0: 544x640 9 persons, 1 bicycle, 2 motorcycles, 1 bus, 1 truck, 160.0ms\n",
      "Speed: 6.0ms preprocess, 160.0ms inference, 3.4ms postprocess per image at shape (1, 3, 544, 640)\n",
      "\n"
     ]
    },
    {
     "name": "stdout",
     "output_type": "stream",
     "text": [
      "print id : 94.0\n",
      "print id : 93.0\n",
      "print id : 92.0\n",
      "print id : 83.0\n",
      "print id : 71.0\n",
      "totalcount  [73.0, 83.0]\n"
     ]
    },
    {
     "name": "stderr",
     "output_type": "stream",
     "text": [
      "0: 544x640 8 persons, 1 bicycle, 4 motorcycles, 1 bus, 1 truck, 157.1ms\n",
      "Speed: 5.0ms preprocess, 157.1ms inference, 2.2ms postprocess per image at shape (1, 3, 544, 640)\n",
      "\n"
     ]
    },
    {
     "name": "stdout",
     "output_type": "stream",
     "text": [
      "print id : 94.0\n",
      "print id : 93.0\n",
      "print id : 92.0\n",
      "print id : 83.0\n",
      "print id : 71.0\n",
      "totalcount  [73.0, 83.0]\n"
     ]
    },
    {
     "name": "stderr",
     "output_type": "stream",
     "text": [
      "0: 544x640 8 persons, 3 motorcycles, 1 bus, 1 truck, 156.5ms\n",
      "Speed: 5.0ms preprocess, 156.5ms inference, 2.3ms postprocess per image at shape (1, 3, 544, 640)\n"
     ]
    },
    {
     "name": "stdout",
     "output_type": "stream",
     "text": [
      "print id : 94.0\n",
      "print id : 93.0\n",
      "print id : 92.0\n",
      "print id : 83.0\n",
      "print id : 71.0\n",
      "totalcount  [73.0, 83.0]\n"
     ]
    },
    {
     "ename": "KeyboardInterrupt",
     "evalue": "",
     "output_type": "error",
     "traceback": [
      "\u001b[1;31m---------------------------------------------------------------------------\u001b[0m",
      "\u001b[1;31mKeyboardInterrupt\u001b[0m                         Traceback (most recent call last)",
      "Cell \u001b[1;32mIn[5], line 76\u001b[0m\n\u001b[0;32m     72\u001b[0m         \u001b[38;5;28mprint\u001b[39m(\u001b[38;5;124m\"\u001b[39m\u001b[38;5;124mtotalcount \u001b[39m\u001b[38;5;124m\"\u001b[39m,totalcount)\n\u001b[0;32m     75\u001b[0m         cv2\u001b[38;5;241m.\u001b[39mimshow(\u001b[38;5;124m'\u001b[39m\u001b[38;5;124mImage\u001b[39m\u001b[38;5;124m'\u001b[39m,frame)\n\u001b[1;32m---> 76\u001b[0m         \u001b[43mcv2\u001b[49m\u001b[38;5;241;43m.\u001b[39;49m\u001b[43mwaitKey\u001b[49m\u001b[43m(\u001b[49m\u001b[38;5;241;43m25\u001b[39;49m\u001b[43m)\u001b[49m  \u001b[38;5;241m&\u001b[39m \u001b[38;5;241m0xFF\u001b[39m \u001b[38;5;241m==\u001b[39m \u001b[38;5;28mord\u001b[39m(\u001b[38;5;124m'\u001b[39m\u001b[38;5;124mh\u001b[39m\u001b[38;5;124m'\u001b[39m)\n\u001b[0;32m     77\u001b[0m \u001b[38;5;66;03m# except:\u001b[39;00m\n\u001b[0;32m     78\u001b[0m \u001b[38;5;66;03m#     print('Kuch to gadabad hai daya!!!!!')\u001b[39;00m\n\u001b[0;32m     79\u001b[0m \n\u001b[0;32m     80\u001b[0m \u001b[38;5;28;01mfinally\u001b[39;00m:\n\u001b[0;32m     81\u001b[0m     cap\u001b[38;5;241m.\u001b[39mrelease()\n",
      "\u001b[1;31mKeyboardInterrupt\u001b[0m: "
     ]
    }
   ],
   "source": [
    "cap = cv2.VideoCapture(\"C:/Users/kisha/Desktop/object1/video/4.mp4\")                 \n",
    "model = YOLO(\"C:/Users/kisha/Desktop/object1/yolov8n.pt\")\n",
    "# classname = ['person','bicycle','car','motorbike','aeroplane','bus','train','truck','boat']\n",
    "\n",
    "classname = ['person', \"bicycle\", \"car\",'motorbike','aeroplane','bus','train','truck','boat',\n",
    "            'traffic light', \"fire hydrant\", \"stop sign\", \"parking meter\", \"bench\", \"bird\", \"cat\",\n",
    "            \"dog\", \"horse\", \"sheep\", \"cow\", \"elephant\", \"bear\", \"zebra\", \"giraffe\", \"backpack\",'umbrella',\n",
    "             \"handbag\", \"tie\", \"suitcase\", \"frisbee\", \"skis\", \"snowboard\", \"sports ball\", \"kite\", \"baseball bat\",\n",
    "             'baseball glove', 'skateboard', 'surfboard', \"tennis racket\", \"bottle\", 'wine glass', 'cup',\n",
    "             'fork', \"knife\", \"spoon\", \"bowl\", \"banana\", 'apple','sandwich', 'orange','broccoli',\n",
    "             'carrot',\"hot dog\", 'pizza', 'donut', \"cake\", \"chair\", \"sofa\", \"pottedplant\", \"bed\",\n",
    "              \"diningtable\", \"toilet\", \"tvmonitor\", \"laptop\", \"mouse\", \"remote\", \"keyboard\", \"cell phone\",\n",
    "              \"microwave\", \"oven\", \"toaster\", \"sink\", \"refrigerator\", \"Hook\", \"clock\", \"vase\", \"scissors\",\n",
    "               'teddy bear', \"hair drier\", \"toothbrush\"]\n",
    "\n",
    "cap.set(3,1280)\n",
    "cap.set(4,720)\n",
    "\n",
    "tracker = Sort(max_age=100, min_hits=3, iou_threshold=0.3)\n",
    "\n",
    "limits=[198,500,700,398]\n",
    "totalcount=[]\n",
    "\n",
    "try:\n",
    "    while True:\n",
    "        ret, frame = cap.read()\n",
    "        frame = cv2.resize(frame,(880,740))\n",
    "        result = model(frame,stream=True)\n",
    "        \n",
    "        detection = np.empty((0,5))\n",
    "        for i in result:\n",
    "            boxes = i.boxes\n",
    "            for box in boxes:\n",
    "                x1,y1,x2,y2 = box.xyxy[0]\n",
    "                x1,y1,x2,y2 = int(x1),int(y1),int(x2),int(y2)\n",
    "                w,h = x2-x1,y2-y1\n",
    "#                 cvzone.cornerRect(frame,(x1,y1,w,h),l=8,t=3)\n",
    "                \n",
    "                conf = math.ceil((box.conf[0]*100))/100\n",
    "#                 print(conf)\n",
    "                cls = int(box.cls[0])\n",
    "                currentclass = classname[cls]\n",
    "                \n",
    "                if currentclass =='car' or currentclass=='bicycle' or currentclass=='motorbike' or currentclass=='bus' or currentclass=='truck':\n",
    "                    cvzone.cornerRect(frame,(x1,y1,w,h),l=8,t=3)\n",
    "#                     cvzone.putTextRect(frame,f'vehicle {conf}',(max(0,x1),max(35,y1-10)),scale=0.8,thickness=1,offset=8)\n",
    "                    currentArray = np.array([x1,y1,x2,y2,conf])\n",
    "                    detection = np.vstack((detection,currentArray))\n",
    "                    \n",
    "        resulttracker = tracker.update(detection)\n",
    "        \n",
    "        cv2.line(frame,(limits[0],limits[1]),(limits[2],limits[3]),(0,0,255),5)\n",
    "        \n",
    "        for result in resulttracker:\n",
    "            x1,y1,x2,y2,id = result\n",
    "            x1,y1,x2,y2 = int(x1),int(y1),int(x2),int(y2)\n",
    "            w,h = x2-x1,y2-y1\n",
    "            print(\"print id :\",id)\n",
    "            cvzone.cornerRect(frame,(x1,y1,w,h),l=8,t=3,colorR=(255, 0, 255))\n",
    "            cvzone.putTextRect(frame,f'{id}',(max(0,x1),max(35,y1-10)),scale=0.8,thickness=1,offset=8)\n",
    "            \n",
    "            cx,cy= x1+w//2,y1+h//2\n",
    "            cv2.circle(frame,(cx,cy),5,(255,0,255),cv2.FILLED)\n",
    "            \n",
    "            if limits[0]< cx < limits[2] and limits[1]-100 < cy <limits[1]+100:\n",
    "                if totalcount.count(id)==0:\n",
    "                    totalcount.append(id)\n",
    "                    cv2.line(frame,(limits[0],limits[1]),(limits[2],limits[3]),(0,255,0),5)\n",
    "            \n",
    "        cvzone.putTextRect(frame,f' Count: {len(totalcount)}',(50,50))   \n",
    "        \n",
    "        print(\"totalcount \",totalcount)\n",
    "        \n",
    "        \n",
    "        cv2.imshow('Image',frame)\n",
    "        if cv2.waitKey(25)  & 0xFF == ord('h'):\n",
    "            break\n",
    "# except:\n",
    "#     print('Kuch to gadabad hai daya!!!!!')\n",
    "\n",
    "finally:\n",
    "    cap.release()\n",
    "    cv2.destroyAllWindows()"
   ]
  },
  {
   "cell_type": "code",
   "execution_count": null,
   "id": "f3fb461e",
   "metadata": {},
   "outputs": [],
   "source": []
  }
 ],
 "metadata": {
  "kernelspec": {
   "display_name": "Python 3 (ipykernel)",
   "language": "python",
   "name": "python3"
  },
  "language_info": {
   "codemirror_mode": {
    "name": "ipython",
    "version": 3
   },
   "file_extension": ".py",
   "mimetype": "text/x-python",
   "name": "python",
   "nbconvert_exporter": "python",
   "pygments_lexer": "ipython3",
   "version": "3.10.11"
  }
 },
 "nbformat": 4,
 "nbformat_minor": 5
}
